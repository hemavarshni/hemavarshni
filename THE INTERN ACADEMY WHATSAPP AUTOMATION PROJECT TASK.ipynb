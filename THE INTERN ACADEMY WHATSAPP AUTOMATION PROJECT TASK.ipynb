{
 "cells": [
  {
   "cell_type": "code",
   "execution_count": 1,
   "id": "bacac5de",
   "metadata": {},
   "outputs": [
    {
     "name": "stdout",
     "output_type": "stream",
     "text": [
      "Requirement already satisfied: pywhatkit in c:\\users\\sruthi\\appdata\\local\\programs\\python\\python38\\lib\\site-packages (5.1)\n",
      "Requirement already satisfied: requests in c:\\users\\sruthi\\appdata\\local\\programs\\python\\python38\\lib\\site-packages (from pywhatkit) (2.26.0)\n",
      "Requirement already satisfied: Pillow in c:\\users\\sruthi\\appdata\\local\\programs\\python\\python38\\lib\\site-packages (from pywhatkit) (8.4.0)\n",
      "Requirement already satisfied: wikipedia in c:\\users\\sruthi\\appdata\\local\\programs\\python\\python38\\lib\\site-packages (from pywhatkit) (1.4.0)\n",
      "Requirement already satisfied: pyautogui in c:\\users\\sruthi\\appdata\\local\\programs\\python\\python38\\lib\\site-packages (from pywhatkit) (0.9.53)\n",
      "Requirement already satisfied: pymsgbox in c:\\users\\sruthi\\appdata\\local\\programs\\python\\python38\\lib\\site-packages (from pyautogui->pywhatkit) (1.0.9)\n",
      "Requirement already satisfied: PyTweening>=1.0.1 in c:\\users\\sruthi\\appdata\\local\\programs\\python\\python38\\lib\\site-packages (from pyautogui->pywhatkit) (1.0.4)\n",
      "Requirement already satisfied: pyscreeze>=0.1.21 in c:\\users\\sruthi\\appdata\\local\\programs\\python\\python38\\lib\\site-packages (from pyautogui->pywhatkit) (0.1.28)\n",
      "Requirement already satisfied: pygetwindow>=0.0.5 in c:\\users\\sruthi\\appdata\\local\\programs\\python\\python38\\lib\\site-packages (from pyautogui->pywhatkit) (0.0.9)\n",
      "Requirement already satisfied: mouseinfo in c:\\users\\sruthi\\appdata\\local\\programs\\python\\python38\\lib\\site-packages (from pyautogui->pywhatkit) (0.1.3)\n",
      "Requirement already satisfied: certifi>=2017.4.17 in c:\\users\\sruthi\\appdata\\local\\programs\\python\\python38\\lib\\site-packages (from requests->pywhatkit) (2021.10.8)\n",
      "Requirement already satisfied: charset-normalizer~=2.0.0 in c:\\users\\sruthi\\appdata\\local\\programs\\python\\python38\\lib\\site-packages (from requests->pywhatkit) (2.0.7)\n",
      "Requirement already satisfied: idna<4,>=2.5 in c:\\users\\sruthi\\appdata\\local\\programs\\python\\python38\\lib\\site-packages (from requests->pywhatkit) (3.3)\n",
      "Requirement already satisfied: urllib3<1.27,>=1.21.1 in c:\\users\\sruthi\\appdata\\local\\programs\\python\\python38\\lib\\site-packages (from requests->pywhatkit) (1.26.7)\n",
      "Requirement already satisfied: beautifulsoup4 in c:\\users\\sruthi\\appdata\\local\\programs\\python\\python38\\lib\\site-packages (from wikipedia->pywhatkit) (4.10.0)\n",
      "Requirement already satisfied: pyrect in c:\\users\\sruthi\\appdata\\local\\programs\\python\\python38\\lib\\site-packages (from pygetwindow>=0.0.5->pyautogui->pywhatkit) (0.1.4)\n",
      "Requirement already satisfied: soupsieve>1.2 in c:\\users\\sruthi\\appdata\\local\\programs\\python\\python38\\lib\\site-packages (from beautifulsoup4->wikipedia->pywhatkit) (2.2.1)\n",
      "Requirement already satisfied: pyperclip in c:\\users\\sruthi\\appdata\\local\\programs\\python\\python38\\lib\\site-packages (from mouseinfo->pyautogui->pywhatkit) (1.8.2)\n"
     ]
    }
   ],
   "source": [
    "!pip install pywhatkit"
   ]
  },
  {
   "cell_type": "code",
   "execution_count": null,
   "id": "ff510d9c",
   "metadata": {},
   "outputs": [
    {
     "name": "stdout",
     "output_type": "stream",
     "text": [
      "In 86179 seconds web.whatsapp.com will open and after 20 seconds message will be delivered\n"
     ]
    }
   ],
   "source": [
    "import pywhatkit as pwt\n",
    "pwt.sendwhatmsg(\"+91 9600018575\",\"Happy Birthday Mom\",14,12)"
   ]
  },
  {
   "cell_type": "code",
   "execution_count": null,
   "id": "0814433e",
   "metadata": {},
   "outputs": [],
   "source": []
  }
 ],
 "metadata": {
  "kernelspec": {
   "display_name": "Python 3 (ipykernel)",
   "language": "python",
   "name": "python3"
  },
  "language_info": {
   "codemirror_mode": {
    "name": "ipython",
    "version": 3
   },
   "file_extension": ".py",
   "mimetype": "text/x-python",
   "name": "python",
   "nbconvert_exporter": "python",
   "pygments_lexer": "ipython3",
   "version": "3.8.1"
  }
 },
 "nbformat": 4,
 "nbformat_minor": 5
}
